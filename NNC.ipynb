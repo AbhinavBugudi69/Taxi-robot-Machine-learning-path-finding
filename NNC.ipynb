{
 "cells": [
  {
   "cell_type": "code",
   "execution_count": 4,
   "id": "290a4e59-3757-4434-92d6-826391d5ecb5",
   "metadata": {
    "scrolled": true
   },
   "outputs": [
    {
     "name": "stdout",
     "output_type": "stream",
     "text": [
      "!Training the neural network!\n",
      "!Evaluating the model!\n",
      "RMSE: 1.16\n",
      "Test Accuracy: 65.43%\n",
      "Classification Report :\n",
      "              precision    recall  f1-score   support\n",
      "\n",
      "           0       0.50      0.65      0.56        17\n",
      "           1       0.72      0.84      0.78        37\n",
      "           2       0.50      0.40      0.44        10\n",
      "           3       0.88      0.47      0.61        15\n",
      "           4       1.00      0.00      0.00         2\n",
      "\n",
      "    accuracy                           0.65        81\n",
      "   macro avg       0.72      0.47      0.48        81\n",
      "weighted avg       0.68      0.65      0.64        81\n",
      "\n",
      "\n",
      " Generating confusion matrix : \n"
     ]
    },
    {
     "data": {
      "image/png": "[encoded data removed]",
      "text/plain": [
       "<Figure size 640x480 with 2 Axes>"
      ]
     },
     "metadata": {},
     "output_type": "display_data"
    },
    {
     "name": "stdout",
     "output_type": "stream",
     "text": [
      "\n",
      " Prediction Details :\n",
      "Taxi Location: (row=4, col=0)\n",
      "Passenger Location: 1\n",
      "Destination: 3\n",
      "Predicted Action: 1\n",
      "+---------+\n",
      "|R: | : :\u001b[35mG\u001b[0m|\n",
      "| : | : : |\n",
      "| : : : : |\n",
      "| | :\u001b[43m \u001b[0m| : |\n",
      "|Y| : |\u001b[34;1mB\u001b[0m: |\n",
      "+---------+\n",
      "\n",
      "\n"
     ]
    }
   ],
   "source": [
    "'''\n",
    "NAME : ABHINAVA SAI BUGUDI\n",
    "ID : W1947458\n",
    "MODULE : 6ELEN018W - Applied Robotics\n",
    "LECTURER NAME : Dr Dimitris C. Dracopoulos\n",
    "\n",
    "'''\n",
    "\n",
    "import pandas as pd\n",
    "import numpy as np\n",
    "from sklearn.model_selection import train_test_split\n",
    "from sklearn.neural_network import MLPClassifier\n",
    "from sklearn.metrics import accuracy_score, classification_report, confusion_matrix, ConfusionMatrixDisplay, mean_squared_error\n",
    "from sklearn.preprocessing import StandardScaler\n",
    "from joblib import dump\n",
    "import matplotlib.pyplot as plt\n",
    "import gymnasium as gym\n",
    "\n",
    "data = pd.read_csv(\"q_learning_data.csv\")\n",
    "\n",
    "# formatting data and adding data\n",
    "X = data[[\"taxi_location\", \"passenger_location\", \"destination\"]].values\n",
    "y = data[\"optimal_action\"].values\n",
    "\n",
    "#standardisation\n",
    "scaler = StandardScaler()\n",
    "X = scaler.fit_transform(X)\n",
    "\n",
    "# Splitting data into training and testing sets\n",
    "X_train, X_test, y_train, y_test = train_test_split(X, y, test_size=0.2, random_state=20)\n",
    "\n",
    "# Defining and training neural network\n",
    "mlp = MLPClassifier(hidden_layer_sizes=(2, 52), activation=\"tanh\", solver=\"adam\", max_iter=1500, random_state=20, learning_rate_init=0.05)\n",
    "print(\"!Training the neural network!\")\n",
    "mlp.fit(X_train, y_train)\n",
    "\n",
    "# Evaluating\n",
    "print(\"!Evaluating the model!\")\n",
    "y_pred = mlp.predict(X_test)\n",
    "accuracy = accuracy_score(y_test, y_pred)\n",
    "\n",
    "# Calculate RMSE\n",
    "rmse = np.sqrt(mean_squared_error(y_test, y_pred))\n",
    "print(f\"RMSE: {rmse:.2f}\")\n",
    "\n",
    "# showing results\n",
    "print(f\"Test Accuracy: {accuracy * 100:.2f}%\")\n",
    "print(\"Classification Report :\")\n",
    "print(classification_report(y_test, y_pred, zero_division=1))\n",
    "\n",
    "# Generating a confusion matrix\n",
    "print(\"\\n Generating confusion matrix : \")\n",
    "unique_labels = np.unique(y_test)  # Get unique labels from the dataset\n",
    "cm = confusion_matrix(y_test, y_pred, labels=unique_labels)\n",
    "ConfusionMatrixDisplay(confusion_matrix=cm, display_labels=[f\"Action {label}\" for label in unique_labels]).plot(cmap=plt.cm.Blues)\n",
    "plt.title(\"Confusion Matrix : \")\n",
    "plt.show()\n",
    "\n",
    "# Predicting an output with the NN \n",
    "def predict_and_visualize(example_input):\n",
    "    example_input_scaled = scaler.transform(example_input)\n",
    "    predicted_action = mlp.predict(example_input_scaled)[0]\n",
    "\n",
    "    taxi_loc, passenger_loc, destination = example_input[0]\n",
    "\n",
    "    # Logic check: Ensuring a valid input\n",
    "    if not (0 <= taxi_loc < 25):\n",
    "        raise ValueError(f\"Invalid taxi location: {taxi_loc}. Must be in the range [0, 24].\")\n",
    "    if not (0 <= passenger_loc < 5):\n",
    "        raise ValueError(f\"Invalid passenger location: {passenger_loc}. Must be in the range [0, 4].\")\n",
    "    if not (0 <= destination < 4):\n",
    "        raise ValueError(f\"Invalid destination: {destination}. Must be in the range [0, 3].\")\n",
    "\n",
    "    print(\"\\n Prediction Details :\")\n",
    "    taxi_row, taxi_col = divmod(taxi_loc, 5)\n",
    "    print(f\"Taxi Location: (row={taxi_row}, col={taxi_col})\")\n",
    "    print(f\"Passenger Location: {passenger_loc}\")\n",
    "    print(f\"Destination: {destination}\")\n",
    "    print(f\"Predicted Action: {predicted_action}\")\n",
    "\n",
    "    # Visualizing the environment\n",
    "    env = gym.make(\"Taxi-v3\", render_mode=\"ansi\")\n",
    "    env.reset(options={\"taxi_row\": taxi_row, \"taxi_col\": taxi_col, \"passenger_index\": passenger_loc, \"destination_index\": destination})\n",
    "    print(env.render())\n",
    "    env.close()\n",
    "\n",
    "# random input for prediction\n",
    "example_input = np.array([[20, 1, 3]])\n",
    "predict_and_visualize(example_input)\n"
   ]
  },
  {
   "cell_type": "markdown",
   "id": "8b0c3cbd-d304-4541-832f-ffaf7fa38bad",
   "metadata": {},
   "source": [
    "## "
   ]
  },
  {
   "cell_type": "code",
   "execution_count": null,
   "id": "84a01e2b-fd05-4d24-8ff2-481056f191c0",
   "metadata": {},
   "outputs": [],
   "source": []
  },
  {
   "cell_type": "code",
   "execution_count": null,
   "id": "93615d14-0355-4d90-bba1-4d37201c6890",
   "metadata": {},
   "outputs": [],
   "source": []
  }
 ],
 "metadata": {
  "kernelspec": {
   "display_name": "Python 3 (ipykernel)",
   "language": "python",
   "name": "python3"
  },
  "language_info": {
   "codemirror_mode": {
    "name": "ipython",
    "version": 3
   },
   "file_extension": ".py",
   "mimetype": "text/x-python",
   "name": "python",
   "nbconvert_exporter": "python",
   "pygments_lexer": "ipython3",
   "version": "3.9.21"
  }
 },
 "nbformat": 4,
 "nbformat_minor": 5
}
